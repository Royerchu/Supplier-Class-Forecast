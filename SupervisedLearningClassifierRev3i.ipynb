{
 "cells": [
  {
   "cell_type": "code",
   "execution_count": 1,
   "metadata": {},
   "outputs": [
    {
     "name": "stdout",
     "output_type": "stream",
     "text": [
      "Thu Nov 17 17:51:40 PST 2022\r\n"
     ]
    }
   ],
   "source": [
    "!date"
   ]
  },
  {
   "cell_type": "code",
   "execution_count": 2,
   "metadata": {},
   "outputs": [
    {
     "name": "stdout",
     "output_type": "stream",
     "text": [
      "Thu Nov 17 17:51:41 PST 2022\r\n"
     ]
    }
   ],
   "source": [
    "!sudo timedatectl set-timezone America/Los_Angeles\n",
    "!date"
   ]
  },
  {
   "cell_type": "code",
   "execution_count": 3,
   "metadata": {},
   "outputs": [
    {
     "name": "stdout",
     "output_type": "stream",
     "text": [
      "Hit:2 http://packages.cloud.google.com/apt cloud-sdk-buster InRelease          \u001b[0m\n",
      "Hit:3 http://packages.cloud.google.com/apt google-cloud-packages-archive-keyring-buster InRelease\n",
      "Hit:4 http://packages.cloud.google.com/apt gcsfuse-buster InRelease            \n",
      "Hit:5 https://packages.cloud.google.com/apt google-fast-socket InRelease       \u001b[0m\n",
      "Hit:6 http://packages.cloud.google.com/apt google-compute-engine-buster-stable InRelease\n",
      "Get:7 https://nvidia.github.io/libnvidia-container/stable/debian10/amd64  InRelease [1484 B]\n",
      "Hit:8 http://deb.debian.org/debian buster InRelease                            \u001b[0m\n",
      "Get:9 https://nvidia.github.io/nvidia-container-runtime/stable/debian10/amd64  InRelease [1481 B]\n",
      "Hit:10 http://security.debian.org/debian-security buster/updates InRelease     \u001b[0m\u001b[33m\n",
      "Hit:11 https://download.docker.com/linux/debian buster InRelease               \u001b[0m\n",
      "Get:12 https://nvidia.github.io/nvidia-docker/debian10/amd64  InRelease [1474 B]\n",
      "Hit:13 http://deb.debian.org/debian buster-updates InRelease                   \u001b[0m\u001b[33m\n",
      "Hit:14 http://deb.debian.org/debian buster-backports InRelease\n",
      "Get:1 https://packages.cloud.google.com/apt kubernetes-xenial InRelease [9383 B]\n",
      "Fetched 13.8 kB in 2s (8442 B/s)3m\u001b[33m\u001b[33m\u001b[33m\u001b[33m\u001b[33m\u001b[33m\u001b[33m\u001b[33m\u001b[33m\u001b[33m\u001b[33m\n",
      "Reading package lists... Done\n",
      "Building dependency tree       \n",
      "Reading state information... Done\n",
      "13 packages can be upgraded. Run 'apt list --upgradable' to see them.\n"
     ]
    }
   ],
   "source": [
    "!sudo apt update"
   ]
  },
  {
   "cell_type": "code",
   "execution_count": 4,
   "metadata": {},
   "outputs": [
    {
     "name": "stdout",
     "output_type": "stream",
     "text": [
      "2.8.2\n"
     ]
    }
   ],
   "source": [
    "# Ensure compatibility\n",
    "from __future__ import absolute_import, division, print_function\n",
    "\n",
    "# Import packages\n",
    "import numpy as np\n",
    "import pandas as pd\n",
    "import matplotlib.pyplot as plt\n",
    "\n",
    "# Import TensorFlow and Keras packages\n",
    "import tensorflow as tf\n",
    "from tensorflow import keras\n",
    "\n",
    "print(tf.__version__)"
   ]
  },
  {
   "cell_type": "code",
   "execution_count": 5,
   "metadata": {},
   "outputs": [],
   "source": [
    "data1 = pd.read_csv(\"SupplyChainDataRev4.csv\", skiprows = 0)"
   ]
  },
  {
   "cell_type": "code",
   "execution_count": 6,
   "metadata": {},
   "outputs": [
    {
     "data": {
      "text/html": [
       "<div>\n",
       "<style scoped>\n",
       "    .dataframe tbody tr th:only-of-type {\n",
       "        vertical-align: middle;\n",
       "    }\n",
       "\n",
       "    .dataframe tbody tr th {\n",
       "        vertical-align: top;\n",
       "    }\n",
       "\n",
       "    .dataframe thead th {\n",
       "        text-align: right;\n",
       "    }\n",
       "</style>\n",
       "<table border=\"1\" class=\"dataframe\">\n",
       "  <thead>\n",
       "    <tr style=\"text-align: right;\">\n",
       "      <th></th>\n",
       "      <th>SupplierID</th>\n",
       "      <th>ForeignMainland</th>\n",
       "      <th>Cycletime</th>\n",
       "      <th>Location</th>\n",
       "      <th>Class</th>\n",
       "      <th>DefectRate</th>\n",
       "      <th>Cost</th>\n",
       "      <th>ClassLabel</th>\n",
       "      <th>CycNorm</th>\n",
       "      <th>DefNorm</th>\n",
       "      <th>CosNorm</th>\n",
       "    </tr>\n",
       "  </thead>\n",
       "  <tbody>\n",
       "    <tr>\n",
       "      <th>0</th>\n",
       "      <td>7503961</td>\n",
       "      <td>U</td>\n",
       "      <td>49.0</td>\n",
       "      <td>D</td>\n",
       "      <td>Gold</td>\n",
       "      <td>4.0</td>\n",
       "      <td>5.0</td>\n",
       "      <td>1</td>\n",
       "      <td>0.620253</td>\n",
       "      <td>0.129032</td>\n",
       "      <td>0.138889</td>\n",
       "    </tr>\n",
       "    <tr>\n",
       "      <th>1</th>\n",
       "      <td>3209120</td>\n",
       "      <td>F</td>\n",
       "      <td>70.0</td>\n",
       "      <td>D</td>\n",
       "      <td>Silver</td>\n",
       "      <td>5.0</td>\n",
       "      <td>8.0</td>\n",
       "      <td>2</td>\n",
       "      <td>0.886076</td>\n",
       "      <td>0.161290</td>\n",
       "      <td>0.222222</td>\n",
       "    </tr>\n",
       "    <tr>\n",
       "      <th>2</th>\n",
       "      <td>1783896</td>\n",
       "      <td>M</td>\n",
       "      <td>NaN</td>\n",
       "      <td>C</td>\n",
       "      <td>Silver</td>\n",
       "      <td>5.0</td>\n",
       "      <td>1.0</td>\n",
       "      <td>2</td>\n",
       "      <td>0.000000</td>\n",
       "      <td>0.161290</td>\n",
       "      <td>0.027778</td>\n",
       "    </tr>\n",
       "    <tr>\n",
       "      <th>3</th>\n",
       "      <td>9060334</td>\n",
       "      <td>NaN</td>\n",
       "      <td>49.0</td>\n",
       "      <td>D</td>\n",
       "      <td>Tin</td>\n",
       "      <td>7.0</td>\n",
       "      <td>7.0</td>\n",
       "      <td>3</td>\n",
       "      <td>0.620253</td>\n",
       "      <td>0.225806</td>\n",
       "      <td>0.194444</td>\n",
       "    </tr>\n",
       "    <tr>\n",
       "      <th>4</th>\n",
       "      <td>3571171</td>\n",
       "      <td>F</td>\n",
       "      <td>66.0</td>\n",
       "      <td>F</td>\n",
       "      <td>Silver</td>\n",
       "      <td>9.0</td>\n",
       "      <td>12.0</td>\n",
       "      <td>2</td>\n",
       "      <td>0.835443</td>\n",
       "      <td>0.290323</td>\n",
       "      <td>0.333333</td>\n",
       "    </tr>\n",
       "  </tbody>\n",
       "</table>\n",
       "</div>"
      ],
      "text/plain": [
       "   SupplierID ForeignMainland  Cycletime Location   Class  DefectRate  Cost  \\\n",
       "0     7503961               U       49.0        D    Gold         4.0   5.0   \n",
       "1     3209120               F       70.0        D  Silver         5.0   8.0   \n",
       "2     1783896               M        NaN        C  Silver         5.0   1.0   \n",
       "3     9060334             NaN       49.0        D     Tin         7.0   7.0   \n",
       "4     3571171               F       66.0        F  Silver         9.0  12.0   \n",
       "\n",
       "   ClassLabel   CycNorm   DefNorm   CosNorm  \n",
       "0           1  0.620253  0.129032  0.138889  \n",
       "1           2  0.886076  0.161290  0.222222  \n",
       "2           2  0.000000  0.161290  0.027778  \n",
       "3           3  0.620253  0.225806  0.194444  \n",
       "4           2  0.835443  0.290323  0.333333  "
      ]
     },
     "execution_count": 6,
     "metadata": {},
     "output_type": "execute_result"
    }
   ],
   "source": [
    "data1.head()"
   ]
  },
  {
   "cell_type": "code",
   "execution_count": 7,
   "metadata": {},
   "outputs": [
    {
     "data": {
      "text/html": [
       "<div>\n",
       "<style scoped>\n",
       "    .dataframe tbody tr th:only-of-type {\n",
       "        vertical-align: middle;\n",
       "    }\n",
       "\n",
       "    .dataframe tbody tr th {\n",
       "        vertical-align: top;\n",
       "    }\n",
       "\n",
       "    .dataframe thead th {\n",
       "        text-align: right;\n",
       "    }\n",
       "</style>\n",
       "<table border=\"1\" class=\"dataframe\">\n",
       "  <thead>\n",
       "    <tr style=\"text-align: right;\">\n",
       "      <th></th>\n",
       "      <th>SupplierID</th>\n",
       "      <th>ForeignMainland</th>\n",
       "      <th>Cycletime</th>\n",
       "      <th>Location</th>\n",
       "      <th>Class</th>\n",
       "      <th>DefectRate</th>\n",
       "      <th>Cost</th>\n",
       "      <th>ClassLabel</th>\n",
       "      <th>CycNorm</th>\n",
       "      <th>DefNorm</th>\n",
       "      <th>CosNorm</th>\n",
       "    </tr>\n",
       "  </thead>\n",
       "  <tbody>\n",
       "    <tr>\n",
       "      <th>4995</th>\n",
       "      <td>6182552</td>\n",
       "      <td>F</td>\n",
       "      <td>68.0</td>\n",
       "      <td>B</td>\n",
       "      <td>Silver</td>\n",
       "      <td>6.0</td>\n",
       "      <td>17.0</td>\n",
       "      <td>2</td>\n",
       "      <td>0.860759</td>\n",
       "      <td>0.193548</td>\n",
       "      <td>0.472222</td>\n",
       "    </tr>\n",
       "    <tr>\n",
       "      <th>4996</th>\n",
       "      <td>644048</td>\n",
       "      <td>F</td>\n",
       "      <td>NaN</td>\n",
       "      <td>B</td>\n",
       "      <td>Silver</td>\n",
       "      <td>8.0</td>\n",
       "      <td>4.0</td>\n",
       "      <td>2</td>\n",
       "      <td>0.000000</td>\n",
       "      <td>0.258065</td>\n",
       "      <td>0.111111</td>\n",
       "    </tr>\n",
       "    <tr>\n",
       "      <th>4997</th>\n",
       "      <td>8498615</td>\n",
       "      <td>F</td>\n",
       "      <td>31.0</td>\n",
       "      <td>C</td>\n",
       "      <td>Tin</td>\n",
       "      <td>15.0</td>\n",
       "      <td>5.0</td>\n",
       "      <td>3</td>\n",
       "      <td>0.392405</td>\n",
       "      <td>0.483871</td>\n",
       "      <td>0.138889</td>\n",
       "    </tr>\n",
       "    <tr>\n",
       "      <th>4998</th>\n",
       "      <td>4229294</td>\n",
       "      <td>NaN</td>\n",
       "      <td>41.0</td>\n",
       "      <td>D</td>\n",
       "      <td>Tin</td>\n",
       "      <td>7.0</td>\n",
       "      <td>8.0</td>\n",
       "      <td>3</td>\n",
       "      <td>0.518987</td>\n",
       "      <td>0.225806</td>\n",
       "      <td>0.222222</td>\n",
       "    </tr>\n",
       "    <tr>\n",
       "      <th>4999</th>\n",
       "      <td>2698566</td>\n",
       "      <td>M</td>\n",
       "      <td>33.0</td>\n",
       "      <td>F</td>\n",
       "      <td>Tin</td>\n",
       "      <td>14.0</td>\n",
       "      <td>8.0</td>\n",
       "      <td>3</td>\n",
       "      <td>0.417722</td>\n",
       "      <td>0.451613</td>\n",
       "      <td>0.222222</td>\n",
       "    </tr>\n",
       "  </tbody>\n",
       "</table>\n",
       "</div>"
      ],
      "text/plain": [
       "      SupplierID ForeignMainland  Cycletime Location   Class  DefectRate  \\\n",
       "4995     6182552               F       68.0        B  Silver         6.0   \n",
       "4996      644048               F        NaN        B  Silver         8.0   \n",
       "4997     8498615               F       31.0        C     Tin        15.0   \n",
       "4998     4229294             NaN       41.0        D     Tin         7.0   \n",
       "4999     2698566               M       33.0        F     Tin        14.0   \n",
       "\n",
       "      Cost  ClassLabel   CycNorm   DefNorm   CosNorm  \n",
       "4995  17.0           2  0.860759  0.193548  0.472222  \n",
       "4996   4.0           2  0.000000  0.258065  0.111111  \n",
       "4997   5.0           3  0.392405  0.483871  0.138889  \n",
       "4998   8.0           3  0.518987  0.225806  0.222222  \n",
       "4999   8.0           3  0.417722  0.451613  0.222222  "
      ]
     },
     "execution_count": 7,
     "metadata": {},
     "output_type": "execute_result"
    }
   ],
   "source": [
    "data1.tail()"
   ]
  },
  {
   "cell_type": "code",
   "execution_count": 8,
   "metadata": {},
   "outputs": [],
   "source": [
    "data1nparray = data1.values"
   ]
  },
  {
   "cell_type": "code",
   "execution_count": 9,
   "metadata": {},
   "outputs": [],
   "source": [
    "# Define independent variables\n",
    "TrainData   = data1nparray[:, [8, 9, 10]]\n",
    "# Define dependent variable\n",
    "TrainLabels = data1nparray[:, [7]]"
   ]
  },
  {
   "cell_type": "code",
   "execution_count": 10,
   "metadata": {},
   "outputs": [],
   "source": [
    "TrainDataFloat = TrainData.astype(float)"
   ]
  },
  {
   "cell_type": "code",
   "execution_count": 11,
   "metadata": {},
   "outputs": [
    {
     "data": {
      "text/plain": [
       "array([[0.62025317, 0.12903226, 0.13888889],\n",
       "       [0.88607595, 0.16129032, 0.22222222],\n",
       "       [0.        , 0.16129032, 0.02777778],\n",
       "       ...,\n",
       "       [0.39240506, 0.48387097, 0.13888889],\n",
       "       [0.51898734, 0.22580645, 0.22222222],\n",
       "       [0.41772152, 0.4516129 , 0.22222222]])"
      ]
     },
     "execution_count": 11,
     "metadata": {},
     "output_type": "execute_result"
    }
   ],
   "source": [
    "TrainDataFloat"
   ]
  },
  {
   "cell_type": "code",
   "execution_count": 12,
   "metadata": {},
   "outputs": [],
   "source": [
    "TrainLabelsInt = TrainLabels.astype(int)"
   ]
  },
  {
   "cell_type": "code",
   "execution_count": 13,
   "metadata": {},
   "outputs": [
    {
     "data": {
      "text/plain": [
       "array([[1],\n",
       "       [2],\n",
       "       [2],\n",
       "       ...,\n",
       "       [3],\n",
       "       [3],\n",
       "       [3]])"
      ]
     },
     "execution_count": 13,
     "metadata": {},
     "output_type": "execute_result"
    }
   ],
   "source": [
    "TrainLabelsInt"
   ]
  },
  {
   "cell_type": "code",
   "execution_count": 14,
   "metadata": {},
   "outputs": [
    {
     "name": "stderr",
     "output_type": "stream",
     "text": [
      "2022-11-17 17:52:06.838782: I tensorflow/core/common_runtime/process_util.cc:146] Creating new thread pool with default inter op setting: 2. Tune using inter_op_parallelism_threads for best performance.\n"
     ]
    }
   ],
   "source": [
    "model = keras.Sequential([\n",
    "    keras.layers.Dense(16, activation=tf.nn.relu),\n",
    "    keras.layers.Dense(8, activation=tf.nn.relu),\n",
    "    keras.layers.Dense(4, activation=tf.nn.softmax)\n",
    "])"
   ]
  },
  {
   "cell_type": "code",
   "execution_count": 15,
   "metadata": {},
   "outputs": [],
   "source": [
    "model.compile(\n",
    "              optimizer='adam', \n",
    "#             optimizer='sgd', \n",
    "              loss='sparse_categorical_crossentropy',\n",
    "              metrics=['accuracy'])"
   ]
  },
  {
   "cell_type": "code",
   "execution_count": 16,
   "metadata": {},
   "outputs": [
    {
     "name": "stdout",
     "output_type": "stream",
     "text": [
      "Epoch 1/20\n",
      "157/157 [==============================] - 1s 3ms/step - loss: 1.3409 - accuracy: 0.3356\n",
      "Epoch 2/20\n",
      "157/157 [==============================] - 0s 3ms/step - loss: 1.2371 - accuracy: 0.3948\n",
      "Epoch 3/20\n",
      "157/157 [==============================] - 0s 3ms/step - loss: 1.1983 - accuracy: 0.3946\n",
      "Epoch 4/20\n",
      "157/157 [==============================] - 0s 3ms/step - loss: 1.1845 - accuracy: 0.3910\n",
      "Epoch 5/20\n",
      "157/157 [==============================] - 1s 5ms/step - loss: 1.1727 - accuracy: 0.3960\n",
      "Epoch 6/20\n",
      "157/157 [==============================] - 1s 3ms/step - loss: 1.1610 - accuracy: 0.4084\n",
      "Epoch 7/20\n",
      "157/157 [==============================] - 0s 3ms/step - loss: 1.1488 - accuracy: 0.4246\n",
      "Epoch 8/20\n",
      "157/157 [==============================] - 0s 3ms/step - loss: 1.1377 - accuracy: 0.4384\n",
      "Epoch 9/20\n",
      "157/157 [==============================] - 1s 3ms/step - loss: 1.1266 - accuracy: 0.4468\n",
      "Epoch 10/20\n",
      "157/157 [==============================] - 0s 3ms/step - loss: 1.1187 - accuracy: 0.4520\n",
      "Epoch 11/20\n",
      "157/157 [==============================] - 1s 3ms/step - loss: 1.1118 - accuracy: 0.4542\n",
      "Epoch 12/20\n",
      "157/157 [==============================] - 1s 4ms/step - loss: 1.1070 - accuracy: 0.4528\n",
      "Epoch 13/20\n",
      "157/157 [==============================] - 1s 3ms/step - loss: 1.1020 - accuracy: 0.4616\n",
      "Epoch 14/20\n",
      "157/157 [==============================] - 1s 4ms/step - loss: 1.0991 - accuracy: 0.4660\n",
      "Epoch 15/20\n",
      "157/157 [==============================] - 0s 3ms/step - loss: 1.0964 - accuracy: 0.4658\n",
      "Epoch 16/20\n",
      "157/157 [==============================] - 0s 3ms/step - loss: 1.0960 - accuracy: 0.4664\n",
      "Epoch 17/20\n",
      "157/157 [==============================] - 1s 4ms/step - loss: 1.0916 - accuracy: 0.4768\n",
      "Epoch 18/20\n",
      "157/157 [==============================] - 0s 3ms/step - loss: 1.0904 - accuracy: 0.4702\n",
      "Epoch 19/20\n",
      "157/157 [==============================] - 0s 3ms/step - loss: 1.0887 - accuracy: 0.4758\n",
      "Epoch 20/20\n",
      "157/157 [==============================] - 0s 3ms/step - loss: 1.0868 - accuracy: 0.4724\n"
     ]
    },
    {
     "data": {
      "text/plain": [
       "<keras.callbacks.History at 0x7f050f327ad0>"
      ]
     },
     "execution_count": 16,
     "metadata": {},
     "output_type": "execute_result"
    }
   ],
   "source": [
    "model.fit(TrainDataFloat, TrainLabelsInt, epochs=20)"
   ]
  },
  {
   "cell_type": "code",
   "execution_count": 17,
   "metadata": {},
   "outputs": [
    {
     "name": "stdout",
     "output_type": "stream",
     "text": [
      "157/157 [==============================] - 1s 4ms/step - loss: 1.0844 - accuracy: 0.4772\n",
      "Train accuracy: 0.4772000014781952\n"
     ]
    }
   ],
   "source": [
    "train_loss, train_acc = model.evaluate(TrainDataFloat, TrainLabelsInt)\n",
    "\n",
    "print('Train accuracy:', train_acc)\n"
   ]
  },
  {
   "cell_type": "code",
   "execution_count": 18,
   "metadata": {},
   "outputs": [],
   "source": [
    "predictions = model.predict(TrainDataFloat)\n"
   ]
  },
  {
   "cell_type": "code",
   "execution_count": 19,
   "metadata": {},
   "outputs": [],
   "source": [
    "class_names = ['Platinum', 'Gold', 'Silver', 'Tin']\n"
   ]
  },
  {
   "cell_type": "code",
   "execution_count": 20,
   "metadata": {},
   "outputs": [
    {
     "name": "stdout",
     "output_type": "stream",
     "text": [
      "4\n",
      "4\n"
     ]
    }
   ],
   "source": [
    "print(len(predictions[0]))\n",
    "print(len(class_names))"
   ]
  },
  {
   "cell_type": "code",
   "execution_count": 21,
   "metadata": {},
   "outputs": [],
   "source": [
    "def plot_image(i, predictions_array, true_label):\n",
    "  plt.grid(False)\n",
    "  plt.xticks([])\n",
    "  plt.yticks([])\n",
    "\n",
    "  predicted_label = np.argmax(predictions_array[i])\n",
    "  if predicted_label == true_label[i][0]:\n",
    "    TextColor = 'blue'\n",
    "  else:\n",
    "    TextColor = 'red'\n",
    "  \n",
    "  plt.xlabel(\"{} {:2.0f}% ({})\".format(\n",
    "                                  class_names[predicted_label],\n",
    "                                  100*np.max(predictions_array[i]),\n",
    "                                  class_names[true_label[i][0]]\n",
    "                                  ),\n",
    "                                color=TextColor)\n",
    "\n",
    "def plot_value_array(i, predictions_array, true_label):\n",
    "  plt.grid(True)\n",
    "  plt.ylim([0, 1])\n",
    "\n",
    "  predicted_label = np.argmax(predictions_array[i])\n",
    "  thisplot = plt.bar(range(len(predictions_array[0])), predictions_array[i], color=\"#777777\")\n",
    "  \n",
    "  # if the true label equals the predicted label, then the blue color will overwrite the red color\n",
    "  thisplot[predicted_label].set_color('red')\n",
    "  thisplot[true_label[i][0]].set_color('blue')\n"
   ]
  },
  {
   "cell_type": "code",
   "execution_count": 22,
   "metadata": {},
   "outputs": [
    {
     "data": {
      "image/png": "[encoded data removed]",
      "text/plain": [
       "<Figure size 288x144 with 2 Axes>"
      ]
     },
     "metadata": {
      "needs_background": "light"
     },
     "output_type": "display_data"
    }
   ],
   "source": [
    "i = 0\n",
    "# width, height\n",
    "plt.figure(figsize=(4,2))\n",
    "\n",
    "# nrows, ncols, index\n",
    "plt.subplot(1,2,1)\n",
    "# Create summary plot on left side\n",
    "plot_image(i, predictions, TrainLabelsInt)\n",
    "# nrows, ncols, index\n",
    "plt.subplot(1,2,2)\n",
    "# Create bar plot on right side\n",
    "plot_value_array(i, predictions, TrainLabelsInt)\n",
    "# Label X axis with classification names\n",
    "plt.xticks(range(len(predictions[0])), class_names, rotation=45)\n",
    "# Display the graphic\n",
    "plt.show()\n",
    "# Blue bar is correct.  If red bar appears, it is the incorrect prediction of the model."
   ]
  },
  {
   "cell_type": "code",
   "execution_count": 23,
   "metadata": {},
   "outputs": [
    {
     "data": {
      "text/plain": [
       "array([0.02656112, 0.16892967, 0.35912564, 0.44538358], dtype=float32)"
      ]
     },
     "execution_count": 23,
     "metadata": {},
     "output_type": "execute_result"
    }
   ],
   "source": [
    "predictions[0]\n"
   ]
  },
  {
   "cell_type": "code",
   "execution_count": 24,
   "metadata": {
    "scrolled": false
   },
   "outputs": [
    {
     "data": {
      "image/png": "[encoded data removed]",
      "text/plain": [
       "<Figure size 1152x2880 with 160 Axes>"
      ]
     },
     "metadata": {
      "needs_background": "light"
     },
     "output_type": "display_data"
    }
   ],
   "source": [
    "num_rows = 20\n",
    "num_cols = 4\n",
    "num_images = num_rows*num_cols\n",
    "# width, height\n",
    "plt.figure(figsize=(2*2*num_cols, 2*num_rows))\n",
    "\n",
    "# Create each plot\n",
    "for i in range(num_images):\n",
    "  # nrows, ncols, index\n",
    "  plt.subplot(num_rows, 2*num_cols, 2*i+1)\n",
    "  # Create summary plot on left side\n",
    "  plot_image(i, predictions, TrainLabelsInt)\n",
    "  # nrows, ncols, index\n",
    "  plt.subplot(num_rows, 2*num_cols, 2*i+2)\n",
    "  # Create bar plot on right side\n",
    "  plot_value_array(i, predictions, TrainLabelsInt)\n",
    "  # Label X axis with classification names\n",
    "  plt.xticks(range(len(predictions[0])), class_names, rotation=45)\n",
    "\n",
    "# Display the graphic\n",
    "plt.show()\n",
    "# Blue bar is correct.  If red bar appears, it is the incorrect prediction of the model."
   ]
  },
  {
   "cell_type": "code",
   "execution_count": 25,
   "metadata": {},
   "outputs": [],
   "source": [
    "layer0 = model.get_layer(index=0)\n"
   ]
  },
  {
   "cell_type": "code",
   "execution_count": 26,
   "metadata": {
    "scrolled": false
   },
   "outputs": [
    {
     "data": {
      "text/plain": [
       "[array([[ 0.65244186, -0.20659493, -0.28126374, -0.02856153, -0.21176302,\n",
       "         -0.8688173 , -0.7760182 , -0.35712656, -0.26359886, -0.17164616,\n",
       "         -0.45239267,  0.6333329 , -0.03861983,  0.11367504,  0.38531277,\n",
       "         -0.2050102 ],\n",
       "        [ 0.43743473,  0.3740782 , -0.06293946, -0.09480724, -0.2894758 ,\n",
       "          0.14931393,  0.12401838, -0.47851723,  0.37137076,  0.2978765 ,\n",
       "         -0.01701796, -0.06563192, -0.37815332, -0.03401156, -0.01511569,\n",
       "         -0.04640435],\n",
       "        [-1.0883721 ,  0.7334717 ,  0.34875834, -0.4049136 , -0.18906248,\n",
       "          0.1514357 ,  0.2440691 , -0.5305059 ,  1.0548191 ,  0.48637006,\n",
       "         -0.0017596 ,  0.4796088 ,  0.41730794,  1.0820347 , -0.96054655,\n",
       "          1.0107585 ]], dtype=float32),\n",
       " array([-0.235046  ,  0.37164357,  0.02120284,  0.        ,  0.        ,\n",
       "         0.33671394,  0.26279256,  0.        ,  0.26066038,  0.3696948 ,\n",
       "        -0.00600332,  0.19555834, -0.07264107, -0.23063795, -0.06362309,\n",
       "        -0.02737656], dtype=float32)]"
      ]
     },
     "execution_count": 26,
     "metadata": {},
     "output_type": "execute_result"
    }
   ],
   "source": [
    "layer0.get_weights()"
   ]
  },
  {
   "cell_type": "code",
   "execution_count": 27,
   "metadata": {},
   "outputs": [],
   "source": [
    "layer1 = model.get_layer(index=1)"
   ]
  },
  {
   "cell_type": "code",
   "execution_count": 28,
   "metadata": {
    "scrolled": false
   },
   "outputs": [
    {
     "data": {
      "text/plain": [
       "[array([[-0.3360771 , -0.98858654, -1.0874289 ,  0.82533425, -0.33957127,\n",
       "          0.47252455, -0.11963725,  0.92105263],\n",
       "        [-0.12441754,  0.77994484,  0.40185842, -0.36618754, -0.46206015,\n",
       "          0.24749364, -0.40337455, -0.02865528],\n",
       "        [-0.31778276,  0.5612555 ,  0.54092455, -0.44027624, -0.24386604,\n",
       "         -0.5304722 ,  0.06781518, -0.46975964],\n",
       "        [-0.18074071,  0.35385394,  0.03684771,  0.24517858,  0.19370115,\n",
       "         -0.3322271 ,  0.156618  ,  0.2667519 ],\n",
       "        [-0.23397684,  0.06312108, -0.06461763, -0.04111171, -0.43378806,\n",
       "         -0.1664567 , -0.05101502, -0.08701837],\n",
       "        [ 0.06229568, -0.8637399 , -0.26129627,  0.10180122,  0.23290162,\n",
       "          1.0304589 , -0.26935315,  0.6587126 ],\n",
       "        [-0.4157853 , -0.4055748 , -0.48705631,  0.1792663 ,  0.18795785,\n",
       "         -0.11623743,  0.38402188,  0.4215738 ],\n",
       "        [-0.06804729,  0.42972696, -0.17357683, -0.00886035,  0.37478828,\n",
       "         -0.41647577,  0.38799238, -0.42200243],\n",
       "        [-0.4437287 ,  0.70369893,  0.65216094,  0.25013313, -0.28694287,\n",
       "         -0.3833748 ,  0.19637632,  0.2266115 ],\n",
       "        [-0.3386619 ,  0.76920354,  0.44569933, -0.28542128,  0.01102086,\n",
       "          0.23387854, -0.01678884,  0.3875493 ],\n",
       "        [ 0.29653728,  0.18570083,  0.42296562,  0.28119683,  0.10954058,\n",
       "          0.41115272,  0.35183764, -0.12792528],\n",
       "        [-0.27354348,  0.3170469 , -0.08435839,  0.55854565,  0.4830321 ,\n",
       "          0.57655716, -0.27612734, -0.43028247],\n",
       "        [ 0.18613243, -0.23911233, -0.04045704, -0.4500773 ,  0.09155373,\n",
       "         -0.33534235, -0.05618656, -0.5093387 ],\n",
       "        [-0.11954618, -1.1808866 , -0.9709757 ,  1.2612033 ,  0.8635393 ,\n",
       "          0.29924795, -0.29399097,  0.7640967 ],\n",
       "        [-0.27661872, -0.1613221 , -0.6597791 ,  0.744584  , -0.11092381,\n",
       "          0.0623086 , -0.17852914,  1.0329875 ],\n",
       "        [-0.02308095, -0.709037  , -0.09377304,  0.70605624,  0.16572852,\n",
       "          0.6907885 , -0.46044612,  0.52247137]], dtype=float32),\n",
       " array([ 0.        ,  0.3005479 ,  0.19006673, -0.16410975,  0.01460321,\n",
       "         0.13730983,  0.        ,  0.01882754], dtype=float32)]"
      ]
     },
     "execution_count": 28,
     "metadata": {},
     "output_type": "execute_result"
    }
   ],
   "source": [
    "layer1.get_weights()"
   ]
  },
  {
   "cell_type": "code",
   "execution_count": 29,
   "metadata": {},
   "outputs": [],
   "source": [
    "layer2 = model.get_layer(index=2)"
   ]
  },
  {
   "cell_type": "code",
   "execution_count": 30,
   "metadata": {},
   "outputs": [
    {
     "data": {
      "text/plain": [
       "[array([[ 0.64175755, -0.3928071 , -0.39985135,  0.0211063 ],\n",
       "        [-1.0750766 , -0.5592215 , -0.04463674,  0.3687038 ],\n",
       "        [-0.5623999 , -0.7839982 ,  0.2004849 ,  1.2902749 ],\n",
       "        [ 0.8614194 ,  0.57321995, -0.3313752 , -2.0578806 ],\n",
       "        [ 0.08895328, -0.57803255,  0.25792456, -0.9641846 ],\n",
       "        [-0.66097075,  0.8134041 ,  0.30861217, -0.5822661 ],\n",
       "        [ 0.46674818,  0.06365913, -0.4372083 ,  0.07983387],\n",
       "        [ 0.37897658,  0.351131  ,  0.1411916 , -0.9880677 ]],\n",
       "       dtype=float32),\n",
       " array([-0.32407996,  0.1590773 ,  0.14749491,  0.11318172], dtype=float32)]"
      ]
     },
     "execution_count": 30,
     "metadata": {},
     "output_type": "execute_result"
    }
   ],
   "source": [
    "layer2.get_weights()"
   ]
  },
  {
   "cell_type": "code",
   "execution_count": 31,
   "metadata": {},
   "outputs": [],
   "source": [
    "# Create data frame that contains predictions\n",
    "predictionsDF = pd.DataFrame(\n",
    "    data=predictions,\n",
    "    columns=class_names\n",
    "    )\n"
   ]
  },
  {
   "cell_type": "code",
   "execution_count": 32,
   "metadata": {},
   "outputs": [],
   "source": [
    "# Create external file that contains the predictions\n",
    "predictionsDF.to_csv(\"Predictions1.csv\", encoding='utf-8', header=True, index=False)\n"
   ]
  },
  {
   "cell_type": "code",
   "execution_count": 33,
   "metadata": {},
   "outputs": [],
   "source": [
    "# Create one-dimensional array\n",
    "TrainLabelsInt1D = np.ndarray.copy(TrainLabelsInt[:,0])\n",
    "\n",
    "# Determine predicted outcomes and whether predicted outcomes equal actual outcomes\n",
    "PredictedLabels1D   = np.ndarray.copy(TrainLabelsInt1D)\n",
    "PredictedOutcomes1D = np.ndarray.copy(TrainLabelsInt1D)\n",
    "for i in range(len(TrainLabelsInt1D)):\n",
    "    PredictedLabels1D[i] = np.argmax(predictions[i])\n",
    "    if PredictedLabels1D[i] == TrainLabelsInt1D[i]:\n",
    "        PredictedOutcomes1D[i] = 1\n",
    "    else:\n",
    "        PredictedOutcomes1D[i] = 0"
   ]
  },
  {
   "cell_type": "code",
   "execution_count": 34,
   "metadata": {},
   "outputs": [
    {
     "data": {
      "text/plain": [
       "array([1, 2, 2, ..., 3, 3, 3])"
      ]
     },
     "execution_count": 34,
     "metadata": {},
     "output_type": "execute_result"
    }
   ],
   "source": [
    "TrainLabelsInt1D"
   ]
  },
  {
   "cell_type": "code",
   "execution_count": 35,
   "metadata": {},
   "outputs": [
    {
     "data": {
      "text/plain": [
       "array([3, 2, 2, ..., 3, 3, 3])"
      ]
     },
     "execution_count": 35,
     "metadata": {},
     "output_type": "execute_result"
    }
   ],
   "source": [
    "PredictedLabels1D"
   ]
  },
  {
   "cell_type": "code",
   "execution_count": 36,
   "metadata": {},
   "outputs": [
    {
     "data": {
      "text/plain": [
       "array([0, 1, 1, ..., 1, 1, 1])"
      ]
     },
     "execution_count": 36,
     "metadata": {},
     "output_type": "execute_result"
    }
   ],
   "source": [
    "PredictedOutcomes1D"
   ]
  },
  {
   "cell_type": "code",
   "execution_count": 37,
   "metadata": {},
   "outputs": [
    {
     "data": {
      "text/plain": [
       "<tf.Tensor: shape=(4, 4), dtype=int32, numpy=\n",
       "array([[   0,   87,   92,   12],\n",
       "       [   0,  510,  683,  171],\n",
       "       [   0,  412, 1010,  552],\n",
       "       [   0,   65,  540,  866]], dtype=int32)>"
      ]
     },
     "execution_count": 37,
     "metadata": {},
     "output_type": "execute_result"
    }
   ],
   "source": [
    "# Create classification matrix\n",
    "# The classification matrix columns represent the prediction labels and the rows represent the actual labels\n",
    "tf.math.confusion_matrix(\n",
    "    TrainLabelsInt1D,\n",
    "    PredictedLabels1D,\n",
    "    num_classes=None,\n",
    "    weights=None,\n",
    "    dtype=tf.dtypes.int32,\n",
    "    name=None\n",
    "    )"
   ]
  },
  {
   "cell_type": "code",
   "execution_count": 38,
   "metadata": {},
   "outputs": [
    {
     "name": "stdout",
     "output_type": "stream",
     "text": [
      "Classification Matrix\n",
      "[[   0   87   92   12]\n",
      " [   0  510  683  171]\n",
      " [   0  412 1010  552]\n",
      " [   0   65  540  866]]\n"
     ]
    }
   ],
   "source": [
    "# Create classification matrix\n",
    "# The classification matrix columns represent the prediction labels and the rows represent the actual labels\n",
    "from sklearn.metrics import confusion_matrix\n",
    "\n",
    "ClassificationMatrix = confusion_matrix(\n",
    "    TrainLabelsInt1D, \n",
    "    PredictedLabels1D\n",
    "    )\n",
    "print('Classification Matrix')\n",
    "print(ClassificationMatrix)"
   ]
  },
  {
   "cell_type": "code",
   "execution_count": 39,
   "metadata": {},
   "outputs": [
    {
     "name": "stdout",
     "output_type": "stream",
     "text": [
      "Accuracy: 0.48\n"
     ]
    }
   ],
   "source": [
    "from sklearn.metrics import accuracy_score, precision_score, recall_score, f1_score\n",
    "print('Accuracy: {:.2f}'.format(accuracy_score(TrainLabelsInt1D, PredictedLabels1D)))"
   ]
  },
  {
   "cell_type": "code",
   "execution_count": 40,
   "metadata": {},
   "outputs": [
    {
     "name": "stdout",
     "output_type": "stream",
     "text": [
      "Sensitivity: 0.48\n"
     ]
    }
   ],
   "source": [
    "# Sensitivity is also called true positive rate (TPR) or recall\n",
    "print('Sensitivity: {:.2f}'.format(recall_score(TrainLabelsInt1D, PredictedLabels1D, average='micro')))"
   ]
  },
  {
   "cell_type": "code",
   "execution_count": 41,
   "metadata": {},
   "outputs": [],
   "source": [
    "# Create two-dimensional array\n",
    "PredictedLabels2D      = np.ndarray.copy(TrainLabelsInt)\n",
    "PredictedLabels2D[:,0] = np.ndarray.copy(PredictedLabels1D)\n",
    "\n",
    "PredictedOutcomes2D      = np.ndarray.copy(TrainLabelsInt)\n",
    "PredictedOutcomes2D[:,0] = np.ndarray.copy(PredictedOutcomes1D)"
   ]
  },
  {
   "cell_type": "code",
   "execution_count": 42,
   "metadata": {},
   "outputs": [
    {
     "data": {
      "text/plain": [
       "array([3, 2, 2, ..., 3, 3, 3])"
      ]
     },
     "execution_count": 42,
     "metadata": {},
     "output_type": "execute_result"
    }
   ],
   "source": [
    "PredictedLabels1D"
   ]
  },
  {
   "cell_type": "code",
   "execution_count": 43,
   "metadata": {},
   "outputs": [
    {
     "data": {
      "text/plain": [
       "array([[3],\n",
       "       [2],\n",
       "       [2],\n",
       "       ...,\n",
       "       [3],\n",
       "       [3],\n",
       "       [3]])"
      ]
     },
     "execution_count": 43,
     "metadata": {},
     "output_type": "execute_result"
    }
   ],
   "source": [
    "PredictedLabels2D"
   ]
  },
  {
   "cell_type": "code",
   "execution_count": 44,
   "metadata": {},
   "outputs": [
    {
     "data": {
      "text/plain": [
       "array([0, 1, 1, ..., 1, 1, 1])"
      ]
     },
     "execution_count": 44,
     "metadata": {},
     "output_type": "execute_result"
    }
   ],
   "source": [
    "PredictedOutcomes1D"
   ]
  },
  {
   "cell_type": "code",
   "execution_count": 45,
   "metadata": {},
   "outputs": [
    {
     "data": {
      "text/plain": [
       "array([[0],\n",
       "       [1],\n",
       "       [1],\n",
       "       ...,\n",
       "       [1],\n",
       "       [1],\n",
       "       [1]])"
      ]
     },
     "execution_count": 45,
     "metadata": {},
     "output_type": "execute_result"
    }
   ],
   "source": [
    "PredictedOutcomes2D"
   ]
  },
  {
   "cell_type": "code",
   "execution_count": 46,
   "metadata": {},
   "outputs": [],
   "source": [
    "TrainDataLabels                        = np.append(TrainDataFloat, TrainLabelsInt, axis=1)\n",
    "TrainDataLabelsPredictions             = np.append(TrainDataLabels, PredictedLabels2D, axis=1)\n",
    "TrainDataLabelsPredictionsOutcomes     = np.append(TrainDataLabelsPredictions, PredictedOutcomes2D, axis=1)\n",
    "TrainDataLabelsPredictionsOutcomesProb = np.append(TrainDataLabelsPredictionsOutcomes, predictions, axis=1)"
   ]
  },
  {
   "cell_type": "code",
   "execution_count": 47,
   "metadata": {},
   "outputs": [],
   "source": [
    "# Define header\n",
    "HeaderNames = ['CycNorm', 'DefNorm', 'CosNorm', 'ClassLabelActual', 'ClassLabelPrediction', 'ClassLabelAccurate',\n",
    "    'PlatinumProbability', 'GoldProbability', 'SilverProbability', 'TinProbability']\n",
    "\n",
    "# Create data frame\n",
    "TDLPOP_DF = pd.DataFrame(\n",
    "    data=TrainDataLabelsPredictionsOutcomesProb,\n",
    "    columns=HeaderNames\n",
    "    )"
   ]
  },
  {
   "cell_type": "code",
   "execution_count": 48,
   "metadata": {},
   "outputs": [],
   "source": [
    "TDLPOP_DF.to_csv(\"Predictions2.csv\", encoding='utf-8', header=True, index=False)"
   ]
  },
  {
   "cell_type": "code",
   "execution_count": 52,
   "metadata": {},
   "outputs": [],
   "source": [
    "# Create directory to save model\n",
    "!mkdir -p Models"
   ]
  },
  {
   "cell_type": "code",
   "execution_count": 53,
   "metadata": {},
   "outputs": [
    {
     "name": "stdout",
     "output_type": "stream",
     "text": [
      "INFO:tensorflow:Assets written to: Models/assets\n"
     ]
    }
   ],
   "source": [
    "# Save model\n",
    "tf.keras.models.save_model(\n",
    "    model,\n",
    "    \"Models\",\n",
    "    overwrite=True,\n",
    "    include_optimizer=True,\n",
    "    save_format=None,\n",
    "    signatures=None,\n",
    "    options=None\n",
    "    )"
   ]
  },
  {
   "cell_type": "code",
   "execution_count": 54,
   "metadata": {},
   "outputs": [],
   "source": [
    "# Load saved model\n",
    "new_model = tf.keras.models.load_model(\"Models\")\n"
   ]
  },
  {
   "cell_type": "code",
   "execution_count": 55,
   "metadata": {},
   "outputs": [
    {
     "name": "stdout",
     "output_type": "stream",
     "text": [
      "Model: \"sequential\"\n",
      "_________________________________________________________________\n",
      " Layer (type)                Output Shape              Param #   \n",
      "=================================================================\n",
      " dense (Dense)               (None, 16)                64        \n",
      "                                                                 \n",
      " dense_1 (Dense)             (None, 8)                 136       \n",
      "                                                                 \n",
      " dense_2 (Dense)             (None, 4)                 36        \n",
      "                                                                 \n",
      "=================================================================\n",
      "Total params: 236\n",
      "Trainable params: 236\n",
      "Non-trainable params: 0\n",
      "_________________________________________________________________\n"
     ]
    }
   ],
   "source": [
    "# Print summary of original model\n",
    "model.summary()"
   ]
  },
  {
   "cell_type": "code",
   "execution_count": 56,
   "metadata": {},
   "outputs": [
    {
     "name": "stdout",
     "output_type": "stream",
     "text": [
      "Model: \"sequential\"\n",
      "_________________________________________________________________\n",
      " Layer (type)                Output Shape              Param #   \n",
      "=================================================================\n",
      " dense (Dense)               (None, 16)                64        \n",
      "                                                                 \n",
      " dense_1 (Dense)             (None, 8)                 136       \n",
      "                                                                 \n",
      " dense_2 (Dense)             (None, 4)                 36        \n",
      "                                                                 \n",
      "=================================================================\n",
      "Total params: 236\n",
      "Trainable params: 236\n",
      "Non-trainable params: 0\n",
      "_________________________________________________________________\n"
     ]
    }
   ],
   "source": [
    "# Print summary of loaded model\n",
    "new_model.summary()"
   ]
  },
  {
   "cell_type": "code",
   "execution_count": 57,
   "metadata": {},
   "outputs": [
    {
     "name": "stdout",
     "output_type": "stream",
     "text": [
      "[0.03837496 0.50948066 0.4445415  0.00760284]\n",
      "[0.03837496 0.50948066 0.4445415  0.00760284]\n"
     ]
    }
   ],
   "source": [
    "#CycNorm, DefNorm, CosNorm\n",
    "#Each ranges from 0 to 1\n",
    "SingleObservation = np.array([[0.9, 0.9, 0.9]])\n",
    "SingleObservationFloat = SingleObservation.astype(float)\n",
    "\n",
    "SinglePrediction         = model.predict(SingleObservationFloat)\n",
    "SinglePredictionNewModel = new_model.predict(SingleObservationFloat)\n",
    "\n",
    "# Print prediction\n",
    "print(SinglePrediction[0])\n",
    "print(SinglePredictionNewModel[0])"
   ]
  },
  {
   "cell_type": "code",
   "execution_count": 58,
   "metadata": {},
   "outputs": [
    {
     "data": {
      "text/plain": [
       "array([0.03837496, 0.50948066, 0.4445415 , 0.00760284], dtype=float32)"
      ]
     },
     "execution_count": 58,
     "metadata": {},
     "output_type": "execute_result"
    }
   ],
   "source": [
    "SinglePrediction[0]"
   ]
  },
  {
   "cell_type": "code",
   "execution_count": 59,
   "metadata": {},
   "outputs": [
    {
     "data": {
      "text/plain": [
       "array([0.03837496, 0.50948066, 0.4445415 , 0.00760284], dtype=float32)"
      ]
     },
     "execution_count": 59,
     "metadata": {},
     "output_type": "execute_result"
    }
   ],
   "source": [
    "SinglePredictionNewModel[0]"
   ]
  },
  {
   "cell_type": "code",
   "execution_count": 60,
   "metadata": {},
   "outputs": [
    {
     "data": {
      "text/plain": [
       "0.50948066"
      ]
     },
     "execution_count": 60,
     "metadata": {},
     "output_type": "execute_result"
    }
   ],
   "source": [
    "np.max(SinglePrediction[0])"
   ]
  },
  {
   "cell_type": "code",
   "execution_count": 61,
   "metadata": {},
   "outputs": [
    {
     "data": {
      "text/plain": [
       "1"
      ]
     },
     "execution_count": 61,
     "metadata": {},
     "output_type": "execute_result"
    }
   ],
   "source": [
    "np.argmax(SinglePrediction[0])"
   ]
  },
  {
   "cell_type": "code",
   "execution_count": 62,
   "metadata": {},
   "outputs": [
    {
     "data": {
      "text/plain": [
       "'Gold'"
      ]
     },
     "execution_count": 62,
     "metadata": {},
     "output_type": "execute_result"
    }
   ],
   "source": [
    "class_names[np.argmax(SinglePrediction[0])]"
   ]
  },
  {
   "cell_type": "code",
   "execution_count": 65,
   "metadata": {},
   "outputs": [
    {
     "name": "stdout",
     "output_type": "stream",
     "text": [
      "Thu Nov 17 18:07:01 PST 2022\r\n"
     ]
    }
   ],
   "source": [
    "!date"
   ]
  },
  {
   "cell_type": "code",
   "execution_count": null,
   "metadata": {},
   "outputs": [],
   "source": []
  }
 ],
 "metadata": {
  "kernelspec": {
   "display_name": "Python 3",
   "language": "python",
   "name": "python3"
  },
  "language_info": {
   "codemirror_mode": {
    "name": "ipython",
    "version": 3
   },
   "file_extension": ".py",
   "mimetype": "text/x-python",
   "name": "python",
   "nbconvert_exporter": "python",
   "pygments_lexer": "ipython3",
   "version": "3.7.12"
  }
 },
 "nbformat": 4,
 "nbformat_minor": 2
}
